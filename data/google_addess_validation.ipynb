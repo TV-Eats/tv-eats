{
 "cells": [
  {
   "cell_type": "markdown",
   "metadata": {},
   "source": [
    "## What is this?\n",
    "This tool is used to take the raw restaurant addresses scraped websites and run them through the Google Maps API to validate and format them in a standard way.\n",
    "It also extracts the City, State, and Zip info."
   ]
  },
  {
   "cell_type": "code",
   "execution_count": 12,
   "metadata": {},
   "outputs": [
    {
     "name": "stdout",
     "output_type": "stream",
     "text": [
      "Error processing address 818 Main St., Rapid City, SD 57701 500 Internal error encountered.\n",
      "Error processing address  400 Address lines missing from request.\n",
      "Error processing address  400 Address lines missing from request.\n",
      "Error processing address 222 S Palm Canyon Dr                                                                                                                                                                                                                                                                                                                                                                                                                                                                                                                                                                                                                                                                                                                                                                                                                                                                                                                                                                                                                                                                                                                                                                                                                                                                                                                                                                                                                                                                                                                                                                                                                                                                                                                                                                                                                                                                                                                                                                                                                                                                                                                                                                                                                                                                                             Palm Canyon Dr, Palm Springs, CA 92262 400 Address too long in length.\n"
     ]
    }
   ],
   "source": [
    "import pandas as pd\n",
    "from google.oauth2 import service_account\n",
    "from google.maps import addressvalidation_v1\n",
    "import config\n",
    "\n",
    "# Fill this in with your Google Maps API credentials JSON path\n",
    "google_api_credentials = service_account.Credentials.from_service_account_file(\n",
    "    config.GOOGLE_MAPS_API_CREDENTIALS_JSON_PATH\n",
    ")\n",
    "\n",
    "async def get_validated_address(credentials: service_account.Credentials, address: str):\n",
    "    client = addressvalidation_v1.AddressValidationAsyncClient(credentials=credentials)\n",
    "\n",
    "    request = addressvalidation_v1.ValidateAddressRequest(\n",
    "        address={\n",
    "            'region_code': 'US',\n",
    "            'address_lines': [address],\n",
    "        },\n",
    "    )\n",
    "\n",
    "    return  await client.validate_address(request=request)\n",
    "\n",
    "\n",
    "# Read dataframe from PKL file\n",
    "df = pd.read_pickle('food_network_restaurants.pkl.zst', compression='zstd')\n",
    "\n",
    "for index, row in df.iterrows():\n",
    "    try:\n",
    "        validation_response = await get_validated_address(google_api_credentials, row['address'])\n",
    "\n",
    "        df.loc[index, 'validated_address'] = validation_response.result.address.formatted_address\n",
    "        df.loc[index, 'city'] = validation_response.result.address.postal_address.locality\n",
    "        df.loc[index, 'state'] = validation_response.result.address.postal_address.administrative_area\n",
    "        df.loc[index, 'zip'] = validation_response.result.address.postal_address.postal_code\n",
    "\n",
    "    except Exception as e:\n",
    "        print('Error processing address', row['address'], e)\n",
    "\n",
    "df.to_pickle('food_network_restaurants_with_validated_addresses.pkl.zst', compression='zstd')\n"
   ]
  }
 ],
 "metadata": {
  "kernelspec": {
   "display_name": "tv-eats",
   "language": "python",
   "name": "python3"
  },
  "language_info": {
   "codemirror_mode": {
    "name": "ipython",
    "version": 3
   },
   "file_extension": ".py",
   "mimetype": "text/x-python",
   "name": "python",
   "nbconvert_exporter": "python",
   "pygments_lexer": "ipython3",
   "version": "3.12.3"
  }
 },
 "nbformat": 4,
 "nbformat_minor": 2
}
